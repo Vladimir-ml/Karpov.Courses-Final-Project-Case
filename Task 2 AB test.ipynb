{
 "cells": [
  {
   "cell_type": "markdown",
   "metadata": {},
   "source": [
    "### Задание 2\n",
    "Имеются результаты A/B теста, в котором двум группам пользователей предлагались различные наборы акционных предложений. Известно, что ARPU в тестовой группе выше на 5%, чем в контрольной. При этом в контрольной группе 1928 игроков из 202103 оказались платящими, а в тестовой – 1805 из 202667.  \n",
    "\n",
    "Какой набор предложений можно считать лучшим?   \n",
    "Какие метрики стоит проанализировать для принятия правильного решения и как?"
   ]
  },
  {
   "cell_type": "code",
   "execution_count": 4,
   "metadata": {},
   "outputs": [],
   "source": [
    "# Импорт библиотек \n",
    "\n",
    "import numpy as np \n",
    "import pandas as pd\n",
    "import plotly.express as px\n",
    "import seaborn as sns\n",
    "sns.set(font_scale=1.85, style=\"whitegrid\",rc={'figure.figsize':(12, 6)})\n",
    "\n",
    "\n",
    "from scipy import stats\n",
    "from tqdm.auto import tqdm\n",
    "import scipy.stats as stats\n",
    "\n",
    "from scipy.stats import norm\n",
    "import matplotlib.pyplot as plt\n",
    "\n",
    "from tqdm.auto import tqdm\n",
    "\n",
    "plt.style.use('ggplot')\n"
   ]
  },
  {
   "cell_type": "code",
   "execution_count": 5,
   "metadata": {},
   "outputs": [],
   "source": [
    "# прочитаем данные\n",
    "data = pd.read_csv('https://stepik.org/media/attachments/lesson/409318/problem2.csv', sep = ';')"
   ]
  },
  {
   "cell_type": "code",
   "execution_count": 6,
   "metadata": {},
   "outputs": [
    {
     "data": {
      "text/plain": [
       "(404770, 3)"
      ]
     },
     "execution_count": 6,
     "metadata": {},
     "output_type": "execute_result"
    }
   ],
   "source": [
    "# посмотрим на данные \n",
    "data.shape"
   ]
  },
  {
   "cell_type": "code",
   "execution_count": 7,
   "metadata": {},
   "outputs": [
    {
     "data": {
      "text/plain": [
       "user_id      404770\n",
       "revenue        1477\n",
       "testgroup         2\n",
       "dtype: int64"
      ]
     },
     "execution_count": 7,
     "metadata": {},
     "output_type": "execute_result"
    }
   ],
   "source": [
    "data.nunique()"
   ]
  },
  {
   "cell_type": "code",
   "execution_count": 8,
   "metadata": {},
   "outputs": [
    {
     "data": {
      "text/html": [
       "<div>\n",
       "<style scoped>\n",
       "    .dataframe tbody tr th:only-of-type {\n",
       "        vertical-align: middle;\n",
       "    }\n",
       "\n",
       "    .dataframe tbody tr th {\n",
       "        vertical-align: top;\n",
       "    }\n",
       "\n",
       "    .dataframe thead th {\n",
       "        text-align: right;\n",
       "    }\n",
       "</style>\n",
       "<table border=\"1\" class=\"dataframe\">\n",
       "  <thead>\n",
       "    <tr style=\"text-align: right;\">\n",
       "      <th></th>\n",
       "      <th>user_id</th>\n",
       "      <th>revenue</th>\n",
       "      <th>testgroup</th>\n",
       "    </tr>\n",
       "  </thead>\n",
       "  <tbody>\n",
       "    <tr>\n",
       "      <th>0</th>\n",
       "      <td>1</td>\n",
       "      <td>0</td>\n",
       "      <td>b</td>\n",
       "    </tr>\n",
       "    <tr>\n",
       "      <th>1</th>\n",
       "      <td>2</td>\n",
       "      <td>0</td>\n",
       "      <td>a</td>\n",
       "    </tr>\n",
       "    <tr>\n",
       "      <th>2</th>\n",
       "      <td>3</td>\n",
       "      <td>0</td>\n",
       "      <td>a</td>\n",
       "    </tr>\n",
       "    <tr>\n",
       "      <th>3</th>\n",
       "      <td>4</td>\n",
       "      <td>0</td>\n",
       "      <td>b</td>\n",
       "    </tr>\n",
       "    <tr>\n",
       "      <th>4</th>\n",
       "      <td>5</td>\n",
       "      <td>0</td>\n",
       "      <td>b</td>\n",
       "    </tr>\n",
       "  </tbody>\n",
       "</table>\n",
       "</div>"
      ],
      "text/plain": [
       "   user_id  revenue testgroup\n",
       "0        1        0         b\n",
       "1        2        0         a\n",
       "2        3        0         a\n",
       "3        4        0         b\n",
       "4        5        0         b"
      ]
     },
     "execution_count": 8,
     "metadata": {},
     "output_type": "execute_result"
    }
   ],
   "source": [
    "data.head()"
   ]
  },
  {
   "cell_type": "markdown",
   "metadata": {},
   "source": [
    "Посмотрим как распределены чеки в обеих наших группах:"
   ]
  },
  {
   "cell_type": "code",
   "execution_count": 9,
   "metadata": {},
   "outputs": [
    {
     "data": {
      "text/plain": [
       "<matplotlib.axes._subplots.AxesSubplot at 0x7f74c4f51390>"
      ]
     },
     "execution_count": 9,
     "metadata": {},
     "output_type": "execute_result"
    },
    {
     "data": {
      "image/png": "[encoded data removed]",
      "text/plain": [
       "<Figure size 864x432 with 1 Axes>"
      ]
     },
     "metadata": {},
     "output_type": "display_data"
    }
   ],
   "source": [
    "# группа а:\n",
    "\n",
    "data.query('testgroup == \"a\" and revenue > 0 ').revenue.hist()"
   ]
  },
  {
   "cell_type": "markdown",
   "metadata": {},
   "source": [
    "Из данной визуализации видно, что чеки в группе а распределны неравномерно и имеется значительный выброс в районе крупных чеков. "
   ]
  },
  {
   "cell_type": "code",
   "execution_count": 10,
   "metadata": {},
   "outputs": [
    {
     "data": {
      "text/plain": [
       "<matplotlib.axes._subplots.AxesSubplot at 0x7f74c4843f60>"
      ]
     },
     "execution_count": 10,
     "metadata": {},
     "output_type": "execute_result"
    },
    {
     "data": {
      "image/png": "[encoded data removed]",
      "text/plain": [
       "<Figure size 864x432 with 1 Axes>"
      ]
     },
     "metadata": {},
     "output_type": "display_data"
    }
   ],
   "source": [
    "# группа b:\n",
    "\n",
    "data.query('testgroup == \"b\" and revenue > 0 ').revenue.hist()"
   ]
  },
  {
   "cell_type": "markdown",
   "metadata": {},
   "source": [
    "В группе b чеки распределены достаточно равномерно и лежат в диапозоне от 2000 до 4000."
   ]
  },
  {
   "cell_type": "markdown",
   "metadata": {},
   "source": [
    "Посмотрим на среднее значение по чекам в каждой из групп:"
   ]
  },
  {
   "cell_type": "code",
   "execution_count": 11,
   "metadata": {},
   "outputs": [
    {
     "name": "stdout",
     "output_type": "stream",
     "text": [
      "Средняя выручка на одного платящего пользователя в группе а: 2664.0\n",
      "Средняя выручка на одного платящего пользователя в группе b: 3004.0\n"
     ]
    }
   ],
   "source": [
    "group_a_mean = data.query('testgroup == \"a\" and revenue > 0 ').revenue.mean()\n",
    "group_b_mean = data.query('testgroup == \"b\" and revenue > 0 ').revenue.mean()\n",
    "print('Средняя выручка на одного платящего пользователя в группе а:', round(group_a_mean))\n",
    "print('Средняя выручка на одного платящего пользователя в группе b:', round(group_b_mean))"
   ]
  },
  {
   "cell_type": "markdown",
   "metadata": {},
   "source": [
    "Интересно проверить, значимо ли отличаются средние значения выручек двух групп?  \n",
    "Для этого воспользуемся bootstrap."
   ]
  },
  {
   "cell_type": "code",
   "execution_count": 12,
   "metadata": {},
   "outputs": [],
   "source": [
    "# объявим функцию \n",
    "\n",
    "def get_bootstrap(\n",
    "    data_column_1, # числовые значения первой выборки\n",
    "    data_column_2, # числовые значения второй выборки\n",
    "    boot_it = 1000, # количество бутстрэп-подвыборок\n",
    "    statistic = np.mean, # интересующая нас статистика\n",
    "    bootstrap_conf_level = 0.95 # уровень значимости\n",
    "):\n",
    "    boot_len = max([len(data_column_1), len(data_column_2)])\n",
    "    boot_data = []\n",
    "    for i in tqdm(range(boot_it)): # извлекаем подвыборки\n",
    "        samples_1 = data_column_1.sample(\n",
    "            boot_len, \n",
    "            replace = True # параметр возвращения\n",
    "        ).values\n",
    "        \n",
    "        samples_2 = data_column_2.sample(\n",
    "            boot_len, \n",
    "            replace = True\n",
    "        ).values\n",
    "        \n",
    "        boot_data.append(statistic(samples_1-samples_2)) # mean() - применяем статистику\n",
    "        \n",
    "    pd_boot_data = pd.DataFrame(boot_data)\n",
    "        \n",
    "    left_quant = (1 - bootstrap_conf_level)/2\n",
    "    right_quant = 1 - (1 - bootstrap_conf_level) / 2\n",
    "    quants = pd_boot_data.quantile([left_quant, right_quant])\n",
    "        \n",
    "    p_1 = norm.cdf(\n",
    "        x = 0, \n",
    "        loc = np.mean(boot_data), \n",
    "        scale = np.std(boot_data)\n",
    "    )\n",
    "    p_2 = norm.cdf(\n",
    "        x = 0, \n",
    "        loc = -np.mean(boot_data), \n",
    "        scale = np.std(boot_data)\n",
    "    )\n",
    "    p_value = min(p_1, p_2) * 2\n",
    "        \n",
    "    # Визуализация\n",
    "    _, _, bars = plt.hist(pd_boot_data[0], bins = 50)\n",
    "    for bar in bars:\n",
    "        if abs(bar.get_x()) <= quants.iloc[0][0] or abs(bar.get_x()) >= quants.iloc[1][0]:\n",
    "            bar.set_facecolor('red')\n",
    "        else: \n",
    "            bar.set_facecolor('grey')\n",
    "            bar.set_edgecolor('black')\n",
    "    \n",
    "    plt.style.use('ggplot')\n",
    "    plt.vlines(quants,ymin=0,ymax=50,linestyle='--')\n",
    "    plt.xlabel('boot_data')\n",
    "    plt.ylabel('frequency')\n",
    "    plt.title(\"Histogram of boot_data\")\n",
    "    plt.show()\n",
    "       \n",
    "    return { \n",
    "            \"quants\": quants, \n",
    "            \"p_value\": p_value}"
   ]
  },
  {
   "cell_type": "code",
   "execution_count": 13,
   "metadata": {},
   "outputs": [],
   "source": [
    "# Отберём данные \n",
    "\n",
    "group_a = data.query('testgroup == \"a\" and revenue > 0 ').revenue\n",
    "group_b = data.query('testgroup == \"b\" and revenue > 0 ').revenue"
   ]
  },
  {
   "cell_type": "code",
   "execution_count": 14,
   "metadata": {},
   "outputs": [
    {
     "data": {
      "application/vnd.jupyter.widget-view+json": {
       "model_id": "96ffc1b25fbf419fa6004a68a2449502",
       "version_major": 2,
       "version_minor": 0
      },
      "text/plain": [
       "HBox(children=(FloatProgress(value=0.0, max=1000.0), HTML(value='')))"
      ]
     },
     "metadata": {},
     "output_type": "display_data"
    },
    {
     "name": "stdout",
     "output_type": "stream",
     "text": [
      "\n"
     ]
    },
    {
     "data": {
      "image/png": "[encoded data removed]",
      "text/plain": [
       "<Figure size 864x432 with 1 Axes>"
      ]
     },
     "metadata": {},
     "output_type": "display_data"
    },
    {
     "data": {
      "text/plain": [
       "{'quants':                 0\n",
       " 0.025 -766.027269\n",
       " 0.975   59.854059,\n",
       " 'p_value': 0.10505646238400387}"
      ]
     },
     "execution_count": 14,
     "metadata": {},
     "output_type": "execute_result"
    }
   ],
   "source": [
    "# Применим функцию:\n",
    "\n",
    "get_bootstrap(group_a, group_b)"
   ]
  },
  {
   "cell_type": "markdown",
   "metadata": {},
   "source": [
    "**Промежуточный вывод**: p-value для bootstrap оказалось больше 0.05, что при заданном уровне значимости (0.95) говорит об принятии нулевой гипотезы - равентстве средних значений в контрольной и тестовой группах. "
   ]
  },
  {
   "cell_type": "markdown",
   "metadata": {},
   "source": [
    "Выброс в группе a не даёт покоя.  \n",
    "Посмотрим, как распределятся выручка, если убрать большие чеки:"
   ]
  },
  {
   "cell_type": "code",
   "execution_count": 15,
   "metadata": {},
   "outputs": [
    {
     "data": {
      "text/plain": [
       "<matplotlib.axes._subplots.AxesSubplot at 0x7f74c3eb02e8>"
      ]
     },
     "execution_count": 15,
     "metadata": {},
     "output_type": "execute_result"
    },
    {
     "data": {
      "image/png": "[encoded data removed]",
      "text/plain": [
       "<Figure size 864x432 with 1 Axes>"
      ]
     },
     "metadata": {},
     "output_type": "display_data"
    }
   ],
   "source": [
    "data.query('testgroup == \"a\" and 3000 > revenue > 0 ').revenue.hist()"
   ]
  },
  {
   "cell_type": "markdown",
   "metadata": {},
   "source": [
    "Теперь распределение более-менее равномерное и лежит в диапозоне от 200 до 400."
   ]
  },
  {
   "cell_type": "code",
   "execution_count": 21,
   "metadata": {},
   "outputs": [
    {
     "name": "stdout",
     "output_type": "stream",
     "text": [
      "Число маленьких чеков (< 3000) в группе а: 1805\n",
      "Число больших чеков (> 3000) в группе а: 123\n"
     ]
    }
   ],
   "source": [
    "count_small_chek_a = data.query('testgroup == \"a\" and 3000 > revenue > 0 ').revenue.count()\n",
    "count_big_chek_a = data.query('testgroup == \"a\" and 3000 < revenue').revenue.count()\n",
    "print('Число маленьких чеков (< 3000) в группе а:', count_small_chek_a)\n",
    "print('Число больших чеков (> 3000) в группе а:', count_big_chek_a)"
   ]
  },
  {
   "cell_type": "markdown",
   "metadata": {},
   "source": [
    "Интересно посмотреть на число всех чеков в группе b:"
   ]
  },
  {
   "cell_type": "code",
   "execution_count": 22,
   "metadata": {},
   "outputs": [
    {
     "name": "stdout",
     "output_type": "stream",
     "text": [
      "Число всех чеков в группе b: 1805\n"
     ]
    }
   ],
   "source": [
    "count_chek_b = data.query('testgroup == \"b\" and revenue > 0 ').revenue.count()\n",
    "print('Число всех чеков в группе b:', count_chek_b)"
   ]
  },
  {
   "cell_type": "markdown",
   "metadata": {},
   "source": [
    "**Теперь выброс в группе а выглядит как случайно добавленные данные!**"
   ]
  },
  {
   "cell_type": "code",
   "execution_count": 24,
   "metadata": {},
   "outputs": [
    {
     "name": "stdout",
     "output_type": "stream",
     "text": [
      "Средняя выручка на одного платящего пользователя в группе а: 302.0\n",
      "Средняя выручка на одного платящего пользователя в группе b: 3004.0\n"
     ]
    }
   ],
   "source": [
    "# Снова сравним средние выручки по группам, но без выброса в группе a: \n",
    "group_a_mean = data.query('testgroup == \"a\" and 3000 > revenue > 0 ').revenue.mean()\n",
    "group_b_mean = data.query('testgroup == \"b\" and revenue > 0 ').revenue.mean()\n",
    "print('Средняя выручка на одного платящего пользователя в группе а:', round(group_a_mean))\n",
    "print('Средняя выручка на одного платящего пользователя в группе b:', round(group_b_mean))"
   ]
  },
  {
   "cell_type": "markdown",
   "metadata": {},
   "source": [
    "Ого! Средние чеки отличаются на порядок!  \n",
    "Конечно, исходя из распределения выручек и зная их средние можно с уверенностью сказать, что это различие значимо. Но для подтверждения снова применим bootstrap:"
   ]
  },
  {
   "cell_type": "code",
   "execution_count": 25,
   "metadata": {},
   "outputs": [],
   "source": [
    "# Обновлённые данные:\n",
    "\n",
    "group_a_new = data.query('testgroup == \"a\" and 3000 >revenue > 0 ').revenue\n",
    "group_b_new = data.query('testgroup == \"b\" and revenue > 0 ').revenue"
   ]
  },
  {
   "cell_type": "code",
   "execution_count": 26,
   "metadata": {},
   "outputs": [
    {
     "data": {
      "application/vnd.jupyter.widget-view+json": {
       "model_id": "230a521c16a64311bb57c291c6218443",
       "version_major": 2,
       "version_minor": 0
      },
      "text/plain": [
       "HBox(children=(FloatProgress(value=0.0, max=1000.0), HTML(value='')))"
      ]
     },
     "metadata": {},
     "output_type": "display_data"
    },
    {
     "name": "stdout",
     "output_type": "stream",
     "text": [
      "\n"
     ]
    },
    {
     "data": {
      "image/png": "[encoded data removed]",
      "text/plain": [
       "<Figure size 864x432 with 1 Axes>"
      ]
     },
     "metadata": {},
     "output_type": "display_data"
    },
    {
     "data": {
      "text/plain": [
       "{'quants':                  0\n",
       " 0.025 -2729.099654\n",
       " 0.975 -2675.882479,\n",
       " 'p_value': 0.0}"
      ]
     },
     "execution_count": 26,
     "metadata": {},
     "output_type": "execute_result"
    }
   ],
   "source": [
    "# Применим функцию: \n",
    "\n",
    "get_bootstrap(group_a_new, group_b_new)"
   ]
  },
  {
   "cell_type": "markdown",
   "metadata": {},
   "source": [
    "**Промежуточный вывод 2**: Что и требовалось доказать. p-value для bootstrap оказалось меньше 0.05, что при заданном уровне значимости (0.95) говорит об отклонении нулевой гипотезы о равенстве средних значений. "
   ]
  },
  {
   "cell_type": "markdown",
   "metadata": {},
   "source": [
    "Теперь, убрав случайный выброс, рассчитаем ключевые метрики"
   ]
  },
  {
   "cell_type": "code",
   "execution_count": 27,
   "metadata": {},
   "outputs": [],
   "source": [
    "data_group_a = data.query('testgroup == \"a\" and 3000 > revenue ')\n",
    "data_group_b = data.query('testgroup == \"b\"')"
   ]
  },
  {
   "cell_type": "code",
   "execution_count": 28,
   "metadata": {},
   "outputs": [
    {
     "name": "stdout",
     "output_type": "stream",
     "text": [
      "ARPU в контрольной группе: 3.0\n",
      "ARPU в тестовой группе: 27.0\n"
     ]
    }
   ],
   "source": [
    "# Посчитаем ARPU (средний доход на одного клиента):\n",
    "\n",
    "ARPU_a = data_group_a.revenue.sum() / data_group_a.revenue.count()\n",
    "\n",
    "print('ARPU в контрольной группе:', round(ARPU_a))\n",
    "\n",
    "ARPU_b = data_group_b.revenue.sum() / data_group_b.revenue.count()\n",
    "\n",
    "print('ARPU в тестовой группе:', round(ARPU_b))"
   ]
  },
  {
   "cell_type": "code",
   "execution_count": 29,
   "metadata": {},
   "outputs": [
    {
     "name": "stdout",
     "output_type": "stream",
     "text": [
      "ARPPU в контрольной группе: 302.0\n",
      "ARPPU в тестовой группе: 3004.0\n"
     ]
    }
   ],
   "source": [
    "# Посчитаем ARPPU (cредняя выручка на одного платящего пользователя):\n",
    "\n",
    "ARPPU_a = round(data_group_a.revenue.sum() / data_group_a.query('revenue != 0').revenue.count())\n",
    "\n",
    "print('ARPPU в контрольной группе:', ARPPU_a)\n",
    "\n",
    "ARPPU_b = round(data_group_b.revenue.sum() / data_group_b.query('revenue != 0').revenue.count())\n",
    "\n",
    "print('ARPPU в тестовой группе:', ARPPU_b)"
   ]
  },
  {
   "cell_type": "code",
   "execution_count": 30,
   "metadata": {},
   "outputs": [
    {
     "name": "stdout",
     "output_type": "stream",
     "text": [
      "Доля платящих в контрольной группе: 0.89 %\n",
      "Доля платящих в тестовой группе: 0.89 %\n"
     ]
    }
   ],
   "source": [
    "# Найдём долю платящих в каждой группе:\n",
    "\n",
    "share_of_paying_a = round(100 * data_group_a.query('revenue != 0').revenue.count() / data_group_a.revenue.count(), 2)\n",
    "print('Доля платящих в контрольной группе:', share_of_paying_a,'%')\n",
    "share_of_paying_b = round(100 * data_group_b.query('revenue != 0').revenue.count() / data_group_b.revenue.count(), 2)\n",
    "print('Доля платящих в тестовой группе:', share_of_paying_b,'%')"
   ]
  },
  {
   "cell_type": "code",
   "execution_count": 31,
   "metadata": {},
   "outputs": [
    {
     "name": "stdout",
     "output_type": "stream",
     "text": [
      "Доход с группы А: 545937\n",
      "Доход с группы B: 5421603\n"
     ]
    }
   ],
   "source": [
    "# Доход с каждой группы:\n",
    "\n",
    "total_revenue_a = data_group_a.revenue.sum()\n",
    "total_revenue_b = data_group_b.revenue.sum()\n",
    "\n",
    "\n",
    "print('Доход с группы А:', total_revenue_a)\n",
    "print('Доход с группы B:', total_revenue_b)"
   ]
  },
  {
   "cell_type": "code",
   "execution_count": 32,
   "metadata": {},
   "outputs": [
    {
     "data": {
      "text/html": [
       "<style  type=\"text/css\" >\n",
       "</style><table id=\"T_c6a7f39a_25dc_11eb_af76_96000040dfb6\" ><thead>    <tr>        <th class=\"blank level0\" ></th>        <th class=\"col_heading level0 col0\" >ARPU</th>        <th class=\"col_heading level0 col1\" >ARPPU</th>        <th class=\"col_heading level0 col2\" >Доля платящих, %</th>        <th class=\"col_heading level0 col3\" >Полный доход</th>    </tr></thead><tbody>\n",
       "                <tr>\n",
       "                        <th id=\"T_c6a7f39a_25dc_11eb_af76_96000040dfb6level0_row0\" class=\"row_heading level0 row0\" >A</th>\n",
       "                        <td id=\"T_c6a7f39a_25dc_11eb_af76_96000040dfb6row0_col0\" class=\"data row0 col0\" >2.70</td>\n",
       "                        <td id=\"T_c6a7f39a_25dc_11eb_af76_96000040dfb6row0_col1\" class=\"data row0 col1\" >302</td>\n",
       "                        <td id=\"T_c6a7f39a_25dc_11eb_af76_96000040dfb6row0_col2\" class=\"data row0 col2\" >0.89</td>\n",
       "                        <td id=\"T_c6a7f39a_25dc_11eb_af76_96000040dfb6row0_col3\" class=\"data row0 col3\" >545937</td>\n",
       "            </tr>\n",
       "            <tr>\n",
       "                        <th id=\"T_c6a7f39a_25dc_11eb_af76_96000040dfb6level0_row1\" class=\"row_heading level0 row1\" >B</th>\n",
       "                        <td id=\"T_c6a7f39a_25dc_11eb_af76_96000040dfb6row1_col0\" class=\"data row1 col0\" >26.75</td>\n",
       "                        <td id=\"T_c6a7f39a_25dc_11eb_af76_96000040dfb6row1_col1\" class=\"data row1 col1\" >3004</td>\n",
       "                        <td id=\"T_c6a7f39a_25dc_11eb_af76_96000040dfb6row1_col2\" class=\"data row1 col2\" >0.89</td>\n",
       "                        <td id=\"T_c6a7f39a_25dc_11eb_af76_96000040dfb6row1_col3\" class=\"data row1 col3\" >5421603</td>\n",
       "            </tr>\n",
       "    </tbody></table>"
      ],
      "text/plain": [
       "<pandas.io.formats.style.Styler at 0x7f74c1326ba8>"
      ]
     },
     "execution_count": 32,
     "metadata": {},
     "output_type": "execute_result"
    }
   ],
   "source": [
    "d = {'ARPU' : [ARPU_a, ARPU_b],\n",
    "     'ARPPU' : [ARPPU_a, ARPPU_b],\n",
    "     'Доля платящих, %' : [share_of_paying_a, share_of_paying_b],\n",
    "     'Полный доход' : [total_revenue_a, total_revenue_b]}\n",
    "df = pd.DataFrame(data = d, index= ['A', 'B'])\n",
    "\n",
    "\n",
    "df.style.format({'ARPU': \"{:.2f}\", 'ARPPU': '{:.0f}', 'Доля платящих, %' : '{:.2f}', 'Полный доход' : '{:.0f}'})\n"
   ]
  },
  {
   "cell_type": "markdown",
   "metadata": {},
   "source": [
    "### Вывод:\n",
    "\n",
    "Скорее всего выброс с очень большими чеками в группе a - был случайностью, которая приводила к выводу о том, что средняя выручка двух групп значимо не отличается.\n",
    "Почистив данные оказалось, что в обеих группах одинаковое число платящих пользователей и средние значения выручек сильно разнится между группами.\n",
    "По рассчитанным метрикам можно сделать вывод о большом преимуществе набора акционных предложений в тестовой группе, именно этот вариант можно считать наилучшим."
   ]
  },
  {
   "cell_type": "code",
   "execution_count": null,
   "metadata": {},
   "outputs": [],
   "source": []
  }
 ],
 "metadata": {
  "kernelspec": {
   "display_name": "Python 3",
   "language": "python",
   "name": "python3"
  },
  "language_info": {
   "codemirror_mode": {
    "name": "ipython",
    "version": 3
   },
   "file_extension": ".py",
   "mimetype": "text/x-python",
   "name": "python",
   "nbconvert_exporter": "python",
   "pygments_lexer": "ipython3",
   "version": "3.7.3"
  }
 },
 "nbformat": 4,
 "nbformat_minor": 4
}
